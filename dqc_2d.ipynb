{
 "cells": [
  {
   "cell_type": "code",
   "execution_count": 1,
   "id": "initial_id",
   "metadata": {
    "collapsed": true,
    "ExecuteTime": {
     "end_time": "2024-05-04T18:47:40.548353700Z",
     "start_time": "2024-05-04T18:47:39.409830500Z"
    }
   },
   "outputs": [
    {
     "name": "stdout",
     "output_type": "stream",
     "text": [
      "False\n"
     ]
    },
    {
     "data": {
      "text/plain": "<torch._C.Generator at 0x265f2614350>"
     },
     "execution_count": 1,
     "metadata": {},
     "output_type": "execute_result"
    }
   ],
   "source": [
    "import torch\n",
    "import numpy as np\n",
    "\n",
    "print(torch.cuda.is_available())\n",
    "\n",
    "torch.manual_seed(0)"
   ]
  },
  {
   "cell_type": "code",
   "execution_count": 2,
   "id": "2302f2605aad011a",
   "metadata": {
    "collapsed": false,
    "ExecuteTime": {
     "end_time": "2024-05-04T18:13:17.698143800Z",
     "start_time": "2024-05-04T18:13:17.689369100Z"
    }
   },
   "outputs": [],
   "source": [
    "def calc_deriv(model: torch.nn.Module, inputs: torch.Tensor) -> torch.Tensor:\n",
    "    \"\"\"Compute a derivative of model that learns u(x,y), computes d^2u/dx^2 using torch.autograd.\"\"\"\n",
    "    \n",
    "    x = inputs\n",
    "    laplacian = torch.zeros(x.shape[0]) #array to store values of laplacian\n",
    "\n",
    "    for i, xi in enumerate(x):\n",
    "        hess = torch.autograd.functional.hessian(model, xi.unsqueeze(0), create_graph=True)\n",
    "        N = 2\n",
    "        laplacian[i] = torch.diagonal(hess.view(N, N), offset=0).sum()\n",
    "    \n",
    "    return laplacian"
   ]
  },
  {
   "cell_type": "code",
   "execution_count": 3,
   "id": "6a99ae60a75ac52b",
   "metadata": {
    "collapsed": false,
    "ExecuteTime": {
     "end_time": "2024-05-04T18:13:17.706829800Z",
     "start_time": "2024-05-04T18:13:17.694175600Z"
    }
   },
   "outputs": [],
   "source": [
    "# Mean-squared error as the comparison criterion\n",
    "criterion = torch.nn.MSELoss()\n",
    "\n",
    "def loss_fn(model: torch.nn.Module, inputs: torch.Tensor) -> torch.Tensor:\n",
    "    \"\"\"Loss function encoding the problem to solve.\"\"\"\n",
    "    # Equation loss\n",
    "    deriv_model = calc_deriv(model, inputs)\n",
    "    deriv_exact = torch.zeros_like(deriv_model)\n",
    "    ode_loss = criterion(deriv_model, deriv_exact)\n",
    "\n",
    "    # Boundary loss, f(0) = 0\n",
    "    boundary_left = inputs.detach().clone()\n",
    "    boundary_left[:,0] = 0\n",
    "    boundary_bottom = inputs.detach().clone()\n",
    "    boundary_bottom[:,1] = 0\n",
    "    boundary_right = inputs.detach().clone()\n",
    "    boundary_right[:,0] = 1\n",
    "    boundary_top = inputs.detach().clone()\n",
    "    boundary_top[:,1] = 1\n",
    "\n",
    "    boundary_left_model = model(boundary_left)\n",
    "    boundary_left_exact = torch.sin(torch.pi * inputs[:,1]).unsqueeze(1)\n",
    "    boundary_left_loss = criterion(boundary_left_model, boundary_left_exact)\n",
    "    boundary_bottom_model = model(boundary_bottom)\n",
    "    boundary_bottom_exact = torch.zeros_like(boundary_bottom_model)\n",
    "    boundary_bottom_loss = criterion(boundary_bottom_model, boundary_bottom_exact)\n",
    "    boundary_right_model = model(boundary_right)\n",
    "    boundary_right_exact = np.exp(-torch.pi)*torch.sin(torch.pi * inputs[:,1]).unsqueeze(1)\n",
    "    boundary_right_loss = criterion(boundary_right_model, boundary_right_exact)\n",
    "    boundary_top_model = model(boundary_top)\n",
    "    boundary_top_exact = torch.zeros_like(boundary_top_model)\n",
    "    boundary_top_loss = criterion(boundary_top_model, boundary_top_exact)\n",
    "    \n",
    "    return ode_loss + boundary_left_loss + boundary_bottom_loss + boundary_right_loss + boundary_top_loss"
   ]
  },
  {
   "cell_type": "code",
   "execution_count": 4,
   "id": "a8785b9ac9aeb34c",
   "metadata": {
    "collapsed": false,
    "ExecuteTime": {
     "end_time": "2024-05-04T18:13:19.429084Z",
     "start_time": "2024-05-04T18:13:17.702559300Z"
    }
   },
   "outputs": [],
   "source": [
    "from qadence import feature_map, hea, chain, add, kron\n",
    "from qadence import QNN, QuantumCircuit, Z\n",
    "from qadence.types import BasisSet, ReuploadScaling\n",
    "\n",
    "n_qubits = 3\n",
    "depth = 3\n",
    "\n",
    "# Feature map\n",
    "fm_x = feature_map(\n",
    "    n_qubits = n_qubits,\n",
    "    param = \"x\",\n",
    "    fm_type = BasisSet.CHEBYSHEV,\n",
    "    reupload_scaling = ReuploadScaling.TOWER,\n",
    ")\n",
    "\n",
    "fm_y = feature_map(\n",
    "    n_qubits = n_qubits,\n",
    "    param = \"y\",\n",
    "    fm_type = BasisSet.CHEBYSHEV,\n",
    "    reupload_scaling = ReuploadScaling.TOWER,\n",
    ")\n",
    "\n",
    "# Ansatz\n",
    "ansatz = hea(n_qubits = n_qubits, depth = depth)\n",
    "\n",
    "# Observable\n",
    "observable = add(Z(i) for i in range(n_qubits))\n",
    "\n",
    "circuit = QuantumCircuit(n_qubits, chain(fm_x, fm_y, ansatz))\n",
    "model = QNN(circuit = circuit, observable = observable, inputs = [\"x\", \"y\"])"
   ]
  },
  {
   "cell_type": "code",
   "execution_count": 5,
   "id": "61e88acb2036ccb7",
   "metadata": {
    "collapsed": false,
    "ExecuteTime": {
     "end_time": "2024-05-04T18:13:42.282810Z",
     "start_time": "2024-05-04T18:13:19.431084Z"
    }
   },
   "outputs": [
    {
     "name": "stdout",
     "output_type": "stream",
     "text": [
      "0\n",
      "1\n",
      "2\n",
      "3\n",
      "4\n",
      "5\n",
      "6\n",
      "7\n",
      "8\n",
      "9\n",
      "10\n",
      "11\n",
      "12\n",
      "13\n",
      "14\n",
      "15\n",
      "16\n",
      "17\n",
      "18\n",
      "19\n",
      "20\n",
      "21\n",
      "22\n",
      "23\n",
      "24\n",
      "25\n",
      "26\n",
      "27\n",
      "28\n",
      "29\n",
      "30\n",
      "31\n",
      "32\n",
      "33\n",
      "34\n",
      "35\n",
      "36\n",
      "37\n",
      "38\n",
      "39\n",
      "40\n",
      "41\n",
      "42\n",
      "43\n",
      "44\n",
      "45\n",
      "46\n",
      "47\n",
      "48\n",
      "49\n"
     ]
    }
   ],
   "source": [
    "n_epochs = 50\n",
    "\n",
    "xmin = 0\n",
    "xmax = 0.999\n",
    "x_points = 4\n",
    "ymin = 0\n",
    "ymax = 0.999\n",
    "y_points = 4\n",
    "\n",
    "optimizer = torch.optim.Adam(model.parameters(), lr = 0.001)\n",
    "\n",
    "for epoch in range(n_epochs):\n",
    "    print(epoch)\n",
    "    optimizer.zero_grad()\n",
    "\n",
    "    # Training data. We unsqueeze essentially making each batch have a single x value.\n",
    "    xy_train = torch.stack((xmin + (xmax-xmin)*torch.rand(x_points, y_points, requires_grad = True),\n",
    "           ymin + (ymax-ymin)*torch.rand(x_points, y_points, requires_grad = True))).swapdims(0, 2).flatten(end_dim=1)\n",
    "\n",
    "    loss = loss_fn(inputs = xy_train, model = model)\n",
    "    loss.backward()\n",
    "    optimizer.step()"
   ]
  },
  {
   "cell_type": "code",
   "execution_count": 6,
   "id": "5a7db62e393dcf46",
   "metadata": {
    "collapsed": false,
    "ExecuteTime": {
     "end_time": "2024-05-04T18:13:42.380533Z",
     "start_time": "2024-05-04T18:13:42.284811Z"
    }
   },
   "outputs": [
    {
     "name": "stderr",
     "output_type": "stream",
     "text": [
      "C:\\Users\\Gabriele\\anaconda3\\envs\\qadence\\Lib\\site-packages\\torch\\functional.py:512: UserWarning: torch.meshgrid: in an upcoming release, it will be required to pass the indexing argument. (Triggered internally at ..\\aten\\src\\ATen\\native\\TensorShape.cpp:3588.)\n",
      "  return _VF.meshgrid(tensors, **kwargs)  # type: ignore[attr-defined]\n"
     ]
    },
    {
     "data": {
      "text/plain": "<matplotlib.colorbar.Colorbar at 0x247b527ded0>"
     },
     "execution_count": 6,
     "metadata": {},
     "output_type": "execute_result"
    },
    {
     "data": {
      "text/plain": "<Figure size 640x480 with 2 Axes>",
      "image/png": "[encoded data removed]"
     },
     "metadata": {},
     "output_type": "display_data"
    }
   ],
   "source": [
    "import matplotlib.pyplot as plt\n",
    "import numpy as np\n",
    "\n",
    "\n",
    "# result_exact = f_exact(x_test).flatten()\n",
    "x = torch.arange(xmin, xmax, 0.1)\n",
    "xy_test = torch.cartesian_prod(x, x)\n",
    "\n",
    "X, Y = torch.meshgrid(x, x)\n",
    "\n",
    "result_model = model(xy_test).detach().unflatten(0,(x.shape[0], x.shape[0]))\n",
    "\n",
    "# plt.plot(x_test, result_exact, label = \"Exact solution\")\n",
    "plt.pcolormesh(X.detach().numpy(), Y.detach().numpy(), result_model.squeeze(2).detach().numpy(), label = \" Trained model\")\n",
    "plt.colorbar()"
   ]
  },
  {
   "cell_type": "code",
   "execution_count": 6,
   "id": "77d09e03",
   "metadata": {
    "ExecuteTime": {
     "end_time": "2024-05-04T18:13:42.381048200Z",
     "start_time": "2024-05-04T18:13:42.377881900Z"
    }
   },
   "outputs": [],
   "source": []
  }
 ],
 "metadata": {
  "kernelspec": {
   "display_name": "Python 3",
   "language": "python",
   "name": "python3"
  },
  "language_info": {
   "codemirror_mode": {
    "name": "ipython",
    "version": 3
   },
   "file_extension": ".py",
   "mimetype": "text/x-python",
   "name": "python",
   "nbconvert_exporter": "python",
   "pygments_lexer": "ipython3",
   "version": "3.9.6"
  }
 },
 "nbformat": 4,
 "nbformat_minor": 5
}
