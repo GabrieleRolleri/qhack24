{
 "cells": [
  {
   "cell_type": "code",
   "execution_count": 1,
   "id": "initial_id",
   "metadata": {
    "ExecuteTime": {
     "end_time": "2024-05-04T16:06:14.392825400Z",
     "start_time": "2024-05-04T16:06:14.386440200Z"
    },
    "collapsed": true
   },
   "outputs": [
    {
     "data": {
      "text/plain": [
       "<torch._C.Generator at 0x117803df0>"
      ]
     },
     "execution_count": 1,
     "metadata": {},
     "output_type": "execute_result"
    }
   ],
   "source": [
    "import torch\n",
    "import numpy as np\n",
    "\n",
    "torch.manual_seed(0)"
   ]
  },
  {
   "cell_type": "code",
   "execution_count": 167,
   "id": "2302f2605aad011a",
   "metadata": {
    "ExecuteTime": {
     "end_time": "2024-05-04T16:06:14.393344600Z",
     "start_time": "2024-05-04T16:06:14.390761700Z"
    },
    "collapsed": false
   },
   "outputs": [],
   "source": [
    "def calc_deriv(outputs: torch.Tensor, inputs: torch.Tensor) -> torch.Tensor:\n",
    "    \"\"\"Compute a derivative of model that learns u(x,y), computes d^2u/dx^2 using torch.autograd.\"\"\"\n",
    "    grad= torch.autograd.grad(\n",
    "        outputs=outputs,\n",
    "        inputs=inputs,\n",
    "        grad_outputs = torch.ones_like(outputs),\n",
    "        create_graph = True,\n",
    "        retain_graph = True,\n",
    "        )[0]\n",
    "\n",
    "    grad_y = grad[:, 1]  # Select the column corresponding to the derivative with respect to y\n",
    "    second_derivative_y = torch.autograd.grad(\n",
    "        grad_y,\n",
    "        inputs,\n",
    "        torch.ones_like(grad_y),  # This tensor is required as grad_y is not scalar\n",
    "        create_graph=True,\n",
    "        retain_graph=True\n",
    "        )[0]\n",
    "\n",
    "\n",
    "    grad_x = grad[:, 0]  # Select the column corresponding to the derivative with respect to y\n",
    "    second_derivative_x = torch.autograd.grad(\n",
    "        grad_x,\n",
    "        inputs,\n",
    "        torch.ones_like(grad_y),  # This tensor is required as grad_y is not scalar\n",
    "        create_graph=True,\n",
    "        retain_graph=True\n",
    "        )[0]\n",
    "    sec2=torch.add(second_derivative_x[:,0],second_derivative_y[:,1])\n",
    "\n",
    "    return sec2\n",
    "\n"
   ]
  },
  {
   "cell_type": "code",
   "execution_count": 208,
   "id": "6a99ae60a75ac52b",
   "metadata": {
    "ExecuteTime": {
     "end_time": "2024-05-04T16:06:14.398579700Z",
     "start_time": "2024-05-04T16:06:14.392825400Z"
    },
    "collapsed": false
   },
   "outputs": [],
   "source": [
    "# Mean-squared error as the comparison criterion\n",
    "criterion = torch.nn.MSELoss()\n",
    "\n",
    "def loss_fn(model: torch.nn.Module, inputs: torch.Tensor) -> torch.Tensor:\n",
    "    \"\"\"Loss function encoding the problem to solve.\"\"\"\n",
    "    # Equation loss\n",
    "    model_output = model(inputs)\n",
    "    deriv_model = calc_deriv(model_output, inputs)\n",
    "    deriv_exact = torch.zeros_like(model_output[:,0])\n",
    "\n",
    "    ode_loss = criterion(deriv_model, deriv_exact)\n",
    "\n",
    "    # Boundary loss, f(0) = 0\n",
    "    boundary1 = inputs.detach().clone()\n",
    "    boundary1[:,0] = 0\n",
    "    boundary2 = inputs.detach().clone()\n",
    "    boundary2[:,1] = 0\n",
    "    boundary3 = inputs.detach().clone()\n",
    "    boundary3[:,0] = 1\n",
    "    boundary4 = inputs.detach().clone()\n",
    "    boundary4[:,1] = 1\n",
    "\n",
    "    boundary1_model = model(boundary1)\n",
    "    boundary1_exact = torch.sin(torch.pi * inputs[:,1]).unsqueeze(1)\n",
    "    boundary1_loss = criterion(boundary1_model, boundary1_exact)\n",
    "    boundary2_model = model(boundary2)\n",
    "    boundary2_exact = torch.zeros_like(model_output)\n",
    "    boundary2_loss = criterion(boundary2_model, boundary2_exact)\n",
    "    boundary3_model = model(boundary3)\n",
    "    boundary3_exact = np.exp(-torch.pi)*torch.sin(torch.pi * inputs[:,1]).unsqueeze(1)\n",
    "    boundary3_loss = criterion(boundary3_model, boundary3_exact)\n",
    "    boundary4_model = model(boundary4)\n",
    "    boundary4_exact = torch.zeros_like(model_output)\n",
    "    boundary4_loss = criterion(boundary4_model, boundary4_exact)\n",
    "\n",
    "    return ode_loss + boundary1_loss + boundary2_loss + boundary3_loss + boundary4_loss"
   ]
  },
  {
   "cell_type": "code",
   "execution_count": 199,
   "id": "a8785b9ac9aeb34c",
   "metadata": {
    "ExecuteTime": {
     "end_time": "2024-05-04T16:06:14.418645400Z",
     "start_time": "2024-05-04T16:06:14.400124200Z"
    },
    "collapsed": false
   },
   "outputs": [],
   "source": [
    "from qadence import feature_map, hea, chain, add, kron, identity_initialized_ansatz\n",
    "from qadence import QNN, QuantumCircuit, Z\n",
    "from qadence.types import BasisSet, ReuploadScaling\n",
    "\n",
    "n_qubits = 4\n",
    "depth = 4\n",
    "\n",
    "# Feature map\n",
    "fm_x = feature_map(\n",
    "    n_qubits = 2,\n",
    "    support=[0,1],\n",
    "    param = \"x\",\n",
    "    fm_type = BasisSet.CHEBYSHEV,\n",
    "    reupload_scaling = ReuploadScaling.TOWER,\n",
    ")\n",
    "\n",
    "fm_y = feature_map(\n",
    "    n_qubits = 2,\n",
    "    param = \"y\",\n",
    "    support=[2,3],\n",
    "    fm_type = BasisSet.CHEBYSHEV,\n",
    "    reupload_scaling = ReuploadScaling.TOWER,\n",
    ")\n",
    "\n",
    "# Ansatz\n",
    "ansatz = identity_initialized_ansatz(n_qubits, depth)\n",
    "\n",
    "# Observable\n",
    "observable = add(Z(i) for i in range(n_qubits))\n",
    "\n",
    "circuit = QuantumCircuit(n_qubits, chain(fm_x, fm_y, ansatz))\n",
    "model = QNN(circuit = circuit, observable = observable, inputs = [\"x\", \"y\"])"
   ]
  },
  {
   "cell_type": "code",
   "execution_count": 211,
   "id": "61e88acb2036ccb7",
   "metadata": {
    "ExecuteTime": {
     "end_time": "2024-05-04T16:06:38.829564900Z",
     "start_time": "2024-05-04T16:06:14.420648Z"
    },
    "collapsed": false
   },
   "outputs": [],
   "source": [
    "n_epochs = 200\n",
    "\n",
    "xmin = 0\n",
    "xmax = 0.999\n",
    "x_points = 10\n",
    "ymin = 0\n",
    "ymax = 0.999\n",
    "y_points = 10\n",
    "\n",
    "optimizer = torch.optim.Adam(model.parameters(), lr = 0.1)\n",
    "\n",
    "for epoch in range(n_epochs):\n",
    "    optimizer.zero_grad()\n",
    "\n",
    "    # Training data. We unsqueeze essentially making each batch have a single x value.\n",
    "    xy_train = torch.stack((xmin + (xmax-xmin)*torch.rand(x_points, y_points, requires_grad = True),\n",
    "           ymin + (ymax-ymin)*torch.rand(x_points, y_points, requires_grad = True))).swapdims(0, 2).flatten(end_dim=1)\n",
    "\n",
    "    loss = loss_fn(inputs = xy_train, model = model)\n",
    "    loss.backward()\n",
    "    optimizer.step()"
   ]
  },
  {
   "cell_type": "code",
   "execution_count": 212,
   "id": "5a7db62e393dcf46",
   "metadata": {
    "ExecuteTime": {
     "end_time": "2024-05-04T16:06:40.622643400Z",
     "start_time": "2024-05-04T16:06:38.829564900Z"
    },
    "collapsed": false
   },
   "outputs": [
    {
     "data": {
      "text/plain": [
       "<matplotlib.collections.QuadMesh at 0x2a80eb760>"
      ]
     },
     "execution_count": 212,
     "metadata": {},
     "output_type": "execute_result"
    },
    {
     "data": {
      "image/png": "[encoded data removed]",
      "text/plain": [
       "<Figure size 640x480 with 1 Axes>"
      ]
     },
     "metadata": {},
     "output_type": "display_data"
    }
   ],
   "source": [
    "import matplotlib.pyplot as plt\n",
    "import numpy as np\n",
    "\n",
    "# result_exact = f_exact(x_test).flatten()\n",
    "x = torch.arange(xmin, xmax, 0.01)\n",
    "xy_test = torch.cartesian_prod(x, x)\n",
    "\n",
    "X, Y = torch.meshgrid(x, x)\n",
    "\n",
    "result_model = model(xy_test).detach().unflatten(0,(x.shape[0], x.shape[0]))\n",
    "\n",
    "# plt.plot(x_test, result_exact, label = \"Exact solution\")\n",
    "plt.pcolormesh(X.detach().numpy(), Y.detach().numpy(), result_model.squeeze(2).detach().numpy(), label = \" Trained model\")"
   ]
  }
 ],
 "metadata": {
  "kernelspec": {
   "display_name": "Python 3",
   "language": "python",
   "name": "python3"
  },
  "language_info": {
   "codemirror_mode": {
    "name": "ipython",
    "version": 3
   },
   "file_extension": ".py",
   "mimetype": "text/x-python",
   "name": "python",
   "nbconvert_exporter": "python",
   "pygments_lexer": "ipython3",
   "version": "3.10.14"
  }
 },
 "nbformat": 4,
 "nbformat_minor": 5
}
